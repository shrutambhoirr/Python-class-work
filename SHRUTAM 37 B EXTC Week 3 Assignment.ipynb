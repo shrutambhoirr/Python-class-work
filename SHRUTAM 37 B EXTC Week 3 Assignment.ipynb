{
 "cells": [
  {
   "cell_type": "code",
   "execution_count": 8,
   "id": "b525aa32",
   "metadata": {
    "id": "b525aa32"
   },
   "outputs": [
    {
     "name": "stdout",
     "output_type": "stream",
     "text": [
      "Shrutam Jagdish Bhoir Roll no.37 Div-B DEP- EXTCWEEK 3 ASSIGNMENT\n"
     ]
    }
   ],
   "source": [
    "print(\"Shrutam Jagdish Bhoir Roll no.37 Div-B DEP- EXTC\"\"WEEK 3 ASSIGNMENT\",sep=\"---\")"
   ]
  },
  {
   "cell_type": "code",
   "execution_count": null,
   "id": "7d16e824",
   "metadata": {},
   "outputs": [],
   "source": [
    "class MyClass:\n",
    "  b = 50"
   ]
  },
  {
   "cell_type": "code",
   "execution_count": 11,
   "id": "0e2f25dd",
   "metadata": {
    "id": "0e2f25dd"
   },
   "outputs": [],
   "source": [
    "class MyNewClass:\n",
    "    '''This is a docstring. I have created a new class'''\n",
    "    pass"
   ]
  },
  {
   "cell_type": "code",
   "execution_count": 12,
   "id": "9ecdbde3",
   "metadata": {
    "id": "9ecdbde3"
   },
   "outputs": [],
   "source": [
    "class Book:\n",
    "    def __init__(self, title, quantity, author, price):\n",
    "        self.title = title\n",
    "        self.quantity = quantity\n",
    "        self.author = author\n",
    "        self.price = price"
   ]
  },
  {
   "cell_type": "code",
   "execution_count": 47,
   "id": "1234c0b6",
   "metadata": {
    "id": "1234c0b6"
   },
   "outputs": [],
   "source": [
    "book1 = Book('Book 1', 12, 'Author 1', 170)\n",
    "book2 = Book('Book 2', 18, 'Author 2', 260)\n",
    "book3 = Book('Book 3', 28, 'Author 3', 370)"
   ]
  },
  {
   "cell_type": "code",
   "execution_count": 48,
   "id": "3a4aa8ca",
   "metadata": {
    "colab": {
     "base_uri": "https://localhost:8080/"
    },
    "id": "3a4aa8ca",
    "outputId": "7eef027b-ebf9-4977-983a-d7f74e03541b"
   },
   "outputs": [
    {
     "name": "stdout",
     "output_type": "stream",
     "text": [
      "Book: Book 1, Quantity: 12, Author: Author 1, Price: 170\n",
      "Book: Book 2, Quantity: 18, Author: Author 2, Price: 260\n",
      "Book: Book 3, Quantity: 28, Author: Author 3, Price: 370\n"
     ]
    }
   ],
   "source": [
    "print(book1)\n",
    "print(book2)\n",
    "print(book3)\n"
   ]
  },
  {
   "cell_type": "code",
   "execution_count": 15,
   "id": "67581015",
   "metadata": {
    "colab": {
     "base_uri": "https://localhost:8080/"
    },
    "id": "67581015",
    "outputId": "26981fba-2306-4144-a55e-acd40b89e39b"
   },
   "outputs": [
    {
     "name": "stdout",
     "output_type": "stream",
     "text": [
      "Book: Book 1, Quantity: 12, Author: Author 1, Price: 120\n",
      "Book: Book 2, Quantity: 18, Author: Author 2, Price: 220\n",
      "Book: Book 3, Quantity: 28, Author: Author 3, Price: 320\n"
     ]
    }
   ],
   "source": [
    "class Book:\n",
    "    def __init__(self, title, quantity, author, price):\n",
    "        self.title = title\n",
    "        self.quantity = quantity\n",
    "        self.author = author\n",
    "        self.price = price\n",
    "\n",
    "    def __repr__(self):\n",
    "        return f\"Book: {self.title}, Quantity: {self.quantity}, Author: {self.author}, Price: {self.price}\"\n",
    "\n",
    "\n",
    "book1 = Book('Book 1', 12, 'Author 1', 120)\n",
    "book2 = Book('Book 2', 18, 'Author 2', 220)\n",
    "book3 = Book('Book 3', 28, 'Author 3', 320)\n",
    "\n",
    "print(book1)\n",
    "print(book2)\n",
    "print(book3)"
   ]
  },
  {
   "cell_type": "code",
   "execution_count": 57,
   "id": "776d546b",
   "metadata": {
    "colab": {
     "base_uri": "https://localhost:8080/"
    },
    "id": "776d546b",
    "outputId": "2df13213-3ec8-4f38-fc5e-6bed4280889b"
   },
   "outputs": [
    {
     "name": "stdout",
     "output_type": "stream",
     "text": [
      "This is hdfc to kotak\n"
     ]
    }
   ],
   "source": [
    "class bank:\n",
    "    def traansaction(self):\n",
    "        print(\"Total transaction value: \")\n",
    "\n",
    "    def account_opening(self):\n",
    "        print(\"This will show you your deposited account:\")\n",
    "\n",
    "    def deposite(self):\n",
    "        print(\"deposited account\")\n",
    "\n",
    "    def test(self):\n",
    "        print(\"this is test from bank\")\n",
    "\n",
    "class HDFC_bank():\n",
    "    def hdfc_to_kotak(self):\n",
    "        print(\"This is hdfc to kotak\")\n",
    "\n",
    "    def test(self):\n",
    "        print(\"this is test from HDFC\")\n",
    "\n",
    "class iNeuron():\n",
    "    def account_status_kotak(self):\n",
    "        print(\"This is iNeuron\")\n",
    "\n",
    "class ICICI(HDFC_bank, bank, iNeuron):\n",
    "    def icici(self):\n",
    "        print(\"indepedent\")\n",
    "\n",
    "\n",
    "i=ICICI()\n",
    "\n",
    "#i.hdfc_to_kotak()\n",
    "#i.traansaction()\n",
    "#i.account_opening()\n",
    "#i.deposite()\n",
    "#i.kotak()\n",
    "#i.test()\n",
    "#i.account_status_kotak()\n",
    "\n"
   ]
  },
  {
   "cell_type": "code",
   "execution_count": 58,
   "id": "e44c4b86",
   "metadata": {},
   "outputs": [
    {
     "name": "stdout",
     "output_type": "stream",
     "text": [
      "Total transaction value: \n"
     ]
    }
   ],
   "source": [
    "class bank:\n",
    "    def traansaction(self):\n",
    "        print(\"Total transaction value: \")\n",
    "\n",
    "    def account_opening(self):\n",
    "        print(\"This will show you your deposited account:\")\n",
    "\n",
    "    def deposite(self):\n",
    "        print(\"deposited account\")\n",
    "\n",
    "    def test(self):\n",
    "        print(\"this is test from bank\")\n",
    "\n",
    "class HDFC_bank():\n",
    "    def hdfc_to_kotak(self):\n",
    "        print(\"This is hdfc to kotak\")\n",
    "\n",
    "    def test(self):\n",
    "        print(\"this is test from HDFC\")\n",
    "\n",
    "class iNeuron():\n",
    "    def account_status_kotak(self):\n",
    "        print(\"This is iNeuron\")\n",
    "\n",
    "class ICICI(HDFC_bank, bank, iNeuron):\n",
    "    def icici(self):\n",
    "        print(\"indepedent\")\n",
    "\n",
    "\n",
    "i=ICICI()\n",
    "\n",
    "#i.hdfc_to_kotak()\n",
    "i.traansaction()\n",
    "#i.account_opening()\n",
    "#i.deposite()\n",
    "#i.kotak()\n",
    "#i.test()\n",
    "#i.account_status_kotak()"
   ]
  },
  {
   "cell_type": "code",
   "execution_count": 59,
   "id": "d75d7081",
   "metadata": {},
   "outputs": [
    {
     "name": "stdout",
     "output_type": "stream",
     "text": [
      "This will show you your deposited account:\n"
     ]
    }
   ],
   "source": [
    "class bank:\n",
    "    def traansaction(self):\n",
    "        print(\"Total transaction value: \")\n",
    "\n",
    "    def account_opening(self):\n",
    "        print(\"This will show you your deposited account:\")\n",
    "\n",
    "    def deposite(self):\n",
    "        print(\"deposited account\")\n",
    "\n",
    "    def test(self):\n",
    "        print(\"this is test from bank\")\n",
    "\n",
    "class HDFC_bank():\n",
    "    def hdfc_to_kotak(self):\n",
    "        print(\"This is hdfc to kotak\")\n",
    "\n",
    "    def test(self):\n",
    "        print(\"this is test from HDFC\")\n",
    "\n",
    "class iNeuron():\n",
    "    def account_status_kotak(self):\n",
    "        print(\"This is iNeuron\")\n",
    "\n",
    "class ICICI(HDFC_bank, bank, iNeuron):\n",
    "    def icici(self):\n",
    "        print(\"indepedent\")\n",
    "\n",
    "\n",
    "i=ICICI()\n",
    "\n",
    "#i.hdfc_to_kotak()\n",
    "#i.traansaction()\n",
    "i.account_opening()\n",
    "#i.deposite()\n",
    "#i.kotak()\n",
    "#i.test()\n",
    "#i.account_status_kotak()"
   ]
  },
  {
   "cell_type": "code",
   "execution_count": 60,
   "id": "cae9ab67",
   "metadata": {},
   "outputs": [
    {
     "name": "stdout",
     "output_type": "stream",
     "text": [
      "deposited account\n"
     ]
    }
   ],
   "source": [
    "class bank:\n",
    "    def traansaction(self):\n",
    "        print(\"Total transaction value: \")\n",
    "\n",
    "    def account_opening(self):\n",
    "        print(\"This will show you your deposited account:\")\n",
    "\n",
    "    def deposite(self):\n",
    "        print(\"deposited account\")\n",
    "\n",
    "    def test(self):\n",
    "        print(\"this is test from bank\")\n",
    "\n",
    "class HDFC_bank():\n",
    "    def hdfc_to_kotak(self):\n",
    "        print(\"This is hdfc to kotak\")\n",
    "\n",
    "    def test(self):\n",
    "        print(\"this is test from HDFC\")\n",
    "\n",
    "class iNeuron():\n",
    "    def account_status_kotak(self):\n",
    "        print(\"This is iNeuron\")\n",
    "\n",
    "class ICICI(HDFC_bank, bank, iNeuron):\n",
    "    def icici(self):\n",
    "        print(\"indepedent\")\n",
    "\n",
    "\n",
    "i=ICICI()\n",
    "\n",
    "#i.hdfc_to_kotak()\n",
    "#i.traansaction()\n",
    "#i.account_opening()\n",
    "i.deposite()\n",
    "#i.kotak()\n",
    "#i.test()\n",
    "#i.account_status_kotak()"
   ]
  },
  {
   "cell_type": "code",
   "execution_count": 63,
   "id": "61c33859",
   "metadata": {},
   "outputs": [
    {
     "name": "stdout",
     "output_type": "stream",
     "text": [
      "indepedent\n"
     ]
    }
   ],
   "source": [
    "class bank:\n",
    "    def traansaction(self):\n",
    "        print(\"Total transaction value: \")\n",
    "\n",
    "    def account_opening(self):\n",
    "        print(\"This will show you your deposited account:\")\n",
    "\n",
    "    def deposite(self):\n",
    "        print(\"deposited account\")\n",
    "\n",
    "    def test(self):\n",
    "        print(\"this is test from bank\")\n",
    "\n",
    "class HDFC_bank():\n",
    "    def hdfc_to_kotak(self):\n",
    "        print(\"This is hdfc to kotak\")\n",
    "\n",
    "    def test(self):\n",
    "        print(\"this is test from HDFC\")\n",
    "\n",
    "class iNeuron():\n",
    "    def account_status_kotak(self):\n",
    "        print(\"This is iNeuron\")\n",
    "\n",
    "class kotak(HDFC_bank, bank, iNeuron):\n",
    "    def kotak(self):\n",
    "        print(\"indepedent\")\n",
    "\n",
    "\n",
    "i=kotak()\n",
    "#i.hdfc_to_kotak()\n",
    "#i.traansaction()\n",
    "#i.account_opening()\n",
    "#i.deposite()\n",
    "i.kotak()\n",
    "#i.test()\n",
    "#i.account_status_kotak()"
   ]
  },
  {
   "cell_type": "code",
   "execution_count": 64,
   "id": "f933f7ee",
   "metadata": {},
   "outputs": [
    {
     "name": "stdout",
     "output_type": "stream",
     "text": [
      "this is test from HDFC\n"
     ]
    }
   ],
   "source": [
    "class bank:\n",
    "    def traansaction(self):\n",
    "        print(\"Total transaction value: \")\n",
    "\n",
    "    def account_opening(self):\n",
    "        print(\"This will show you your deposited account:\")\n",
    "\n",
    "    def deposite(self):\n",
    "        print(\"deposited account\")\n",
    "\n",
    "    def test(self):\n",
    "        print(\"this is test from bank\")\n",
    "\n",
    "class HDFC_bank():\n",
    "    def hdfc_to_kotak(self):\n",
    "        print(\"This is hdfc to kotak\")\n",
    "\n",
    "    def test(self):\n",
    "        print(\"this is test from HDFC\")\n",
    "\n",
    "class iNeuron():\n",
    "    def account_status_kotak(self):\n",
    "        print(\"This is iNeuron\")\n",
    "\n",
    "class ICICI(HDFC_bank, bank, iNeuron):\n",
    "    def icici(self):\n",
    "        print(\"indepedent\")\n",
    "\n",
    "\n",
    "i=ICICI()\n",
    "\n",
    "#i.hdfc_to_kotak()\n",
    "#i.traansaction()\n",
    "#i.account_opening()\n",
    "#i.deposite()\n",
    "#i.kotak()\n",
    "i.test()\n",
    "#i.account_status_kotak()"
   ]
  },
  {
   "cell_type": "code",
   "execution_count": 66,
   "id": "742daf86",
   "metadata": {
    "id": "742daf86",
    "outputId": "38e703e4-1f68-4e53-cd7e-afdfb49a3944"
   },
   "outputs": [
    {
     "name": "stdout",
     "output_type": "stream",
     "text": [
      "Shrutam\n",
      "20\n"
     ]
    }
   ],
   "source": [
    "#using __init__ function\n",
    "\n",
    "class Person:\n",
    "    \n",
    " def __init__(self, name, age):\n",
    "    self.name = name\n",
    "    self.age = age\n",
    "\n",
    "p1 = Person(\"Shrutam\", 20)\n",
    "\n",
    "print(p1.name)\n",
    "print(p1.age)"
   ]
  },
  {
   "cell_type": "code",
   "execution_count": 74,
   "id": "f089da0b",
   "metadata": {
    "id": "f089da0b",
    "outputId": "d81e8efa-d50d-461e-8f60-43e371baf6b8"
   },
   "outputs": [
    {
     "name": "stdout",
     "output_type": "stream",
     "text": [
      "Hello my name is Shrutam\n"
     ]
    }
   ],
   "source": [
    "#object methods\n",
    "class Person:\n",
    " def __init__(self, name, age):\n",
    "    self.name = name\n",
    "    self.age = age\n",
    "    \n",
    "#Objects can also contain methods. Methods in objects are functions that belong to the object.\n",
    "#Let us create a method in the Person class:\n",
    "\n",
    "\n",
    "   \n",
    " def myfunc(self):\n",
    "    print(\"Hello my name is \" + self.name)\n",
    "\n",
    "p1 = Person(\"Shrutam\", 20)\n",
    "p1.myfunc()"
   ]
  },
  {
   "cell_type": "code",
   "execution_count": 72,
   "id": "093d8a04",
   "metadata": {
    "id": "093d8a04",
    "outputId": "80f2b4e9-2ec6-49b1-b87a-9e19d9a593c0"
   },
   "outputs": [
    {
     "name": "stdout",
     "output_type": "stream",
     "text": [
      "Hello my name is Shrutam and surname is Bhoir\n"
     ]
    }
   ],
   "source": [
    "#The self parameter is a reference to the current instance of the class, and is used to access variables that belongs to the class.\n",
    "class Person:\n",
    "    \n",
    " def __init__(mysillyobject, name, sirname):\n",
    "    mysillyobject.name = name\n",
    "    mysillyobject.sirname = sirname\n",
    "\n",
    " def myfunc(abc):\n",
    "    print(\"Hello my name is \" + abc.name + \"and surname is \" + abc.sirname )\n",
    "\n",
    "p1 = Person(\"Shrutam \", \"Bhoir\")\n",
    "p1.myfunc()\n"
   ]
  },
  {
   "cell_type": "code",
   "execution_count": 86,
   "id": "00b82e0b",
   "metadata": {
    "id": "00b82e0b",
    "outputId": "e7f56884-e6f9-4f1f-be95-83729bdda7e1"
   },
   "outputs": [
    {
     "ename": "IndentationError",
     "evalue": "unindent does not match any outer indentation level (<tokenize>, line 5)",
     "output_type": "error",
     "traceback": [
      "\u001b[1;36m  File \u001b[1;32m\"<tokenize>\"\u001b[1;36m, line \u001b[1;32m5\u001b[0m\n\u001b[1;33m    def __init__(self, name, salary):\u001b[0m\n\u001b[1;37m    ^\u001b[0m\n\u001b[1;31mIndentationError\u001b[0m\u001b[1;31m:\u001b[0m unindent does not match any outer indentation level\n"
     ]
    }
   ],
   "source": [
    "class Employee:\n",
    "   'Common base class for all employees'\n",
    "   empCount = 0 \n",
    "     \n",
    "  def __init__(self, name, salary):\n",
    "        self.name = name\n",
    "        self.salary = salary\n",
    "        Employee.empCount += 1\n",
    "   def displayCount(self):\n",
    "        print( \"Total Employee %d\" % Employee.empCount)\n",
    "\n",
    "     def displayEmployee(self):\n",
    "            print (\"Name : \", self.name,  \", Salary: \", self.salary)\n",
    "\n",
    "\n",
    "emp1 = Employee(\"ram\", 99000)\n",
    "\n",
    "emp2 = Employee(\"sham\", 80000)\n",
    "\n",
    "emp3 = Employee(\"kam\", 100000)\n",
    "\n",
    "emp4 = Employee(\"shrutam\", 999999999)\n",
    "\n",
    "emp5 = Employee(\"sumit\", 1000500)\n",
    "\n",
    "emp1.displayEmployee()\n",
    "emp2.displayEmployee()\n",
    "emp3.displayEmployee()\n",
    "emp4.displayEmployee()\n",
    "emp5.displayEmployee()\n",
    "print (\"Total Employee %d\" % Employee.empCount)"
   ]
  },
  {
   "cell_type": "code",
   "execution_count": 118,
   "id": "4589a502",
   "metadata": {
    "id": "4589a502"
   },
   "outputs": [
    {
     "ename": "SyntaxError",
     "evalue": "invalid syntax (399469411.py, line 1)",
     "output_type": "error",
     "traceback": [
      "\u001b[1;36m  File \u001b[1;32m\"C:\\Users\\Student\\AppData\\Local\\Temp\\ipykernel_4640\\399469411.py\"\u001b[1;36m, line \u001b[1;32m1\u001b[0m\n\u001b[1;33m    Overview of OOP Terminology\u001b[0m\n\u001b[1;37m             ^\u001b[0m\n\u001b[1;31mSyntaxError\u001b[0m\u001b[1;31m:\u001b[0m invalid syntax\n"
     ]
    }
   ],
   "source": [
    "Overview of OOP Terminology\n",
    "Class − A user-defined prototype for an object that defines a set of attributes that characterize any object of the class. The attributes are data members (class variables and instance variables) and methods, accessed via dot notation.\n",
    "\n",
    "Class variable − A variable that is shared by all instances of a class. Class variables are defined within a class but outside any of the class's methods. Class variables are not used as frequently as instance variables are.\n",
    "\n",
    "Data member − A class variable or instance variable that holds data associated with a class and its objects.\n",
    "\n",
    "Function overloading − The assignment of more than one behavior to a particular function. The operation performed varies by the types of objects or arguments involved.\n",
    "\n",
    "Instance variable − A variable that is defined inside a method and belongs only to the current instance of a class.\n",
    "\n",
    "Inheritance − The transfer of the characteristics of a class to other classes that are derived from it.\n",
    "\n",
    "Instance − An individual object of a certain class. An object obj that belongs to a class Circle, for example, is an instance of the class Circle.\n",
    "\n",
    "Instantiation − The creation of an instance of a class.\n",
    "\n",
    "Method − A special kind of function that is defined in a class definition.\n",
    "\n",
    "Object − A unique instance of a data structure that's defined by its class. An object comprises both data members (class variables and instance variables) and methods.\n",
    "\n",
    "Operator overloading − The assignment of more than one function to a particular operator."
   ]
  },
  {
   "cell_type": "code",
   "execution_count": 23,
   "id": "95d1b49c",
   "metadata": {
    "id": "95d1b49c",
    "outputId": "eb433a17-ab48-46eb-f2a8-c31db0063d07"
   },
   "outputs": [
    {
     "name": "stdout",
     "output_type": "stream",
     "text": [
      "Initial list of values of list01: []\n",
      "Updated list after adding values to it: [2, 20, 44, 12]\n",
      "Updated list after removing value 12 is:  [2, 20, 44]\n"
     ]
    }
   ],
   "source": [
    "class NumList:\n",
    "    def __init__(self):\n",
    "        self.__list = [] \n",
    "    \n",
    "    def add_value(self, val):\n",
    "        self.__list.append(val)\n",
    "    \n",
    "    def remove_value(self):\n",
    "        rv = self.__list[-1]\n",
    "        del self.__list[-1]\n",
    "        return rv\n",
    "    \n",
    "    def print_list(self):\n",
    "        return self.__list\n",
    "\n",
    "list01 = NumList()\n",
    "print('Initial list of values of list01:', list01.print_list())\n",
    "list01.add_value(2)\n",
    "list01.add_value(20)\n",
    "list01.add_value(44)\n",
    "list01.add_value(12)\n",
    "print('Updated list after adding values to it:', list01.print_list())\n",
    "val = list01.remove_value()\n",
    "print('Updated list after removing value %s is: ' % (val), list01.print_list())"
   ]
  },
  {
   "cell_type": "code",
   "execution_count": 24,
   "id": "7ed8d4b3",
   "metadata": {
    "id": "7ed8d4b3",
    "outputId": "0f267c88-75e1-4c2e-8064-5cfb4f3429ba"
   },
   "outputs": [
    {
     "name": "stdout",
     "output_type": "stream",
     "text": [
      "Initial list of values list02: []\n",
      "Updated list after adding values to it: [2000, 500, 44444, 122222]\n",
      "Updated list after removing value 122222 is:  [2000, 500, 44444]\n"
     ]
    }
   ],
   "source": [
    "list02 = NumList()\n",
    "print('Initial list of values list02:', list02.print_list())\n",
    "list02.add_value(2000)\n",
    "list02.add_value(500)\n",
    "list02.add_value(44444)\n",
    "list02.add_value(122222)\n",
    "print('Updated list after adding values to it:', list02.print_list())\n",
    "val = list02.remove_value()\n",
    "print('Updated list after removing value %s is: ' % (val), list02.print_list())\n"
   ]
  },
  {
   "cell_type": "code",
   "execution_count": 87,
   "id": "2482fc81",
   "metadata": {
    "id": "2482fc81",
    "outputId": "b9dcac61-b12f-4258-8454-228b95521b96"
   },
   "outputs": [
    {
     "name": "stdout",
     "output_type": "stream",
     "text": [
      "This is a Electric car of colour green\n",
      "This car is ecofriendly!\n"
     ]
    }
   ],
   "source": [
    "# Class creation\n",
    "class Car:\n",
    "  # Initializer Method\n",
    "  def __init__(self):\n",
    "    # Instance variables\n",
    "    self.color = 'Black'\n",
    "    self.fuel_type = 'Petrol'\n",
    "  # Creating a class method\n",
    "  @classmethod\n",
    "  def details(cls, color, fuel_type):\n",
    "    print(\"This is a {} car of colour {}\".format(fuel_type, color))\n",
    "  # Creating a class method \n",
    "  @staticmethod\n",
    "  def ecofriendly(fuel_type):\n",
    "    if fuel_type.lower()=='electric':\n",
    "      print(\"This car is ecofriendly!\")\n",
    "    else:\n",
    "      print(\"This car is not ecofriendly!\")\n",
    "# Object Creation\n",
    "SUV = Car()\n",
    "SUV.details('green', 'Electric')\n",
    "SUV.ecofriendly('Electric')"
   ]
  },
  {
   "cell_type": "code",
   "execution_count": 53,
   "id": "e8ddb3f7",
   "metadata": {
    "id": "e8ddb3f7",
    "outputId": "955d285d-cd14-494b-f4a0-01f944e75251"
   },
   "outputs": [
    {
     "name": "stdout",
     "output_type": "stream",
     "text": [
      "The color of this Bike is : green\n"
     ]
    }
   ],
   "source": [
    "# Parent Class\n",
    "class Vehicle:\n",
    "  def __init__(self):\n",
    "    self.color = 'green'\n",
    "  def fuel_type(self):\n",
    "    print(\"This is an Electric Vehicle\")\n",
    "# Child Class\n",
    "class Bike(Vehicle):\n",
    "  def __init__(self):\n",
    "    # Inherit the initializer method of parent class\n",
    "    super().__init__()\n",
    "  \n",
    "  # Method to use the attributes of parent class\n",
    "  def details(self):\n",
    "    print(\"The color of this Bike is :\", self.color)\n",
    "# Object for child class\n",
    "Superbike = Bike()\n",
    "# Access the method of child class\n",
    "Superbike.details()"
   ]
  },
  {
   "cell_type": "code",
   "execution_count": 102,
   "id": "c7b83627",
   "metadata": {
    "id": "c7b83627"
   },
   "outputs": [],
   "source": [
    "class car:\n",
    "    def __init__(self, milage, year, make, model,engineno):\n",
    "        self.milage = milage\n",
    "        self.year = year\n",
    "        self.make = make\n",
    "        self.model = model\n",
    "        self.engineno = engineno\n",
    "        "
   ]
  },
  {
   "cell_type": "code",
   "execution_count": 103,
   "id": "5099c3e0",
   "metadata": {
    "id": "5099c3e0"
   },
   "outputs": [],
   "source": [
    "nano1 = car(13, 2022, \"audi\", \"sass\", 2332)\n",
    "audiq71 = car(9, 2020, \"audi\",\"q7\",2342342)\n",
    "nano2 = car(13, 2022, \"weew\", \"sass\", 2332)\n",
    "audiq72 = car(11, 2021, \"weqq\",\"qweq\",2342342)\n",
    "nano3 = car(13, 2022, \"weew\", \"sass\", 2332)\n",
    "audiq73 = car(11, 2021, \"weqq\",\"qweq\",2342342)\n",
    "nano4 = car(13, 2022, \"weew\", \"sass\", 2332)\n",
    "audiq74 = car(11, 2021, \"weqq\",\"qweq\",2342342)"
   ]
  },
  {
   "cell_type": "code",
   "execution_count": 105,
   "id": "e673d479",
   "metadata": {
    "id": "e673d479"
   },
   "outputs": [],
   "source": [
    "audiq71 = car(9, 2020, \"audi\",\"q7\",2342342)"
   ]
  },
  {
   "cell_type": "code",
   "execution_count": 106,
   "id": "d447efe2",
   "metadata": {
    "id": "d447efe2",
    "outputId": "1fbc5070-f668-4286-ead2-f5aa535f3589"
   },
   "outputs": [
    {
     "data": {
      "text/plain": [
       "'audi'"
      ]
     },
     "execution_count": 106,
     "metadata": {},
     "output_type": "execute_result"
    }
   ],
   "source": [
    "nano1.make"
   ]
  },
  {
   "cell_type": "code",
   "execution_count": 107,
   "id": "12fe3a90",
   "metadata": {
    "id": "12fe3a90",
    "outputId": "96358e65-5502-404a-eabd-e906aec0b1d2"
   },
   "outputs": [
    {
     "data": {
      "text/plain": [
       "'q7'"
      ]
     },
     "execution_count": 107,
     "metadata": {},
     "output_type": "execute_result"
    }
   ],
   "source": [
    "audiq71.model"
   ]
  },
  {
   "cell_type": "code",
   "execution_count": 111,
   "id": "5398a83c",
   "metadata": {
    "id": "5398a83c"
   },
   "outputs": [],
   "source": [
    "class car:\n",
    "    def __init__(a, m, y, ma, mo,en):\n",
    "        a.milage = m\n",
    "        a.year = y\n",
    "        a.make = ma\n",
    "        a.model = mo\n",
    "        a.engineno = en\n",
    "    \n",
    "    def age(self, current_year):\n",
    "        return current_year - self.year\n",
    "    \n",
    "    def milage1(self):\n",
    "        print(\"print a milage of car : \", self.milage)\n",
    "        #return self.milage\n",
    "    \n",
    "    def __str__(c):\n",
    "        return \"this is my car class I have created\""
   ]
  },
  {
   "cell_type": "code",
   "execution_count": 112,
   "id": "afd27e3d",
   "metadata": {
    "id": "afd27e3d"
   },
   "outputs": [],
   "source": [
    "audiq711 = car(9, 2021, \"audi\",\"q7\",2342342)"
   ]
  },
  {
   "cell_type": "code",
   "execution_count": 113,
   "id": "cb0132bc",
   "metadata": {
    "id": "cb0132bc",
    "outputId": "02aa6620-36dc-49af-f38c-8928f85d41d1"
   },
   "outputs": [
    {
     "data": {
      "text/plain": [
       "9"
      ]
     },
     "execution_count": 113,
     "metadata": {},
     "output_type": "execute_result"
    }
   ],
   "source": [
    "audiq711.milage"
   ]
  },
  {
   "cell_type": "code",
   "execution_count": 114,
   "id": "4311ceab",
   "metadata": {
    "id": "4311ceab",
    "outputId": "d5847a4c-a797-4b5d-b7dd-87238cddfef1"
   },
   "outputs": [
    {
     "data": {
      "text/plain": [
       "2"
      ]
     },
     "execution_count": 114,
     "metadata": {},
     "output_type": "execute_result"
    }
   ],
   "source": [
    "audiq711.age(2023)"
   ]
  },
  {
   "cell_type": "code",
   "execution_count": 117,
   "id": "3f02dad9",
   "metadata": {
    "id": "3f02dad9"
   },
   "outputs": [],
   "source": [
    "nano67 = car(20, 2022, \"audi\", \"q7\", 232323)"
   ]
  },
  {
   "cell_type": "code",
   "execution_count": null,
   "id": "e406ce72",
   "metadata": {},
   "outputs": [],
   "source": []
  },
  {
   "cell_type": "code",
   "execution_count": null,
   "id": "6ac7d8d7",
   "metadata": {},
   "outputs": [],
   "source": []
  },
  {
   "cell_type": "code",
   "execution_count": null,
   "id": "c229d25a",
   "metadata": {},
   "outputs": [],
   "source": []
  },
  {
   "cell_type": "code",
   "execution_count": null,
   "id": "1b0f2785",
   "metadata": {},
   "outputs": [],
   "source": []
  }
 ],
 "metadata": {
  "colab": {
   "provenance": []
  },
  "kernelspec": {
   "display_name": "Python 3 (ipykernel)",
   "language": "python",
   "name": "python3"
  },
  "language_info": {
   "codemirror_mode": {
    "name": "ipython",
    "version": 3
   },
   "file_extension": ".py",
   "mimetype": "text/x-python",
   "name": "python",
   "nbconvert_exporter": "python",
   "pygments_lexer": "ipython3",
   "version": "3.9.13"
  }
 },
 "nbformat": 4,
 "nbformat_minor": 5
}
