{
 "cells": [
  {
   "cell_type": "code",
   "execution_count": 39,
   "id": "56588f9d",
   "metadata": {},
   "outputs": [
    {
     "name": "stdout",
     "output_type": "stream",
     "text": [
      "Shrutam Jagdish Bhoir Roll no.37 Div-B DEP- EXTCWEEK 3 ASSIGNMENT\n"
     ]
    }
   ],
   "source": [
    "print(\"Shrutam Jagdish Bhoir Roll no.37 Div-B DEP- EXTC\"\"WEEK 3 ASSIGNMENT\",sep=\"---\")"
   ]
  },
  {
   "cell_type": "code",
   "execution_count": 45,
   "id": "32479a9d",
   "metadata": {},
   "outputs": [],
   "source": [
    "#1. Create a function that takes three integer arguments (a, b, c) and returns the amount of integers which are of equal value.integers which are of equal value.\n",
    "\n",
    "def equal(a,b,c):\n",
    "    ''' takes three integer arguments (a, b, c) and returns the amount of integers which are of equal value'''\n",
    "    try:\n",
    "        if (a==b) and (a==c):\n",
    "            return 3\n",
    "        elif (a==b) or (a==c)or(b==c):\n",
    "            return 2\n",
    "        else :\n",
    "            return 0\n",
    "    except Exception as e:\n",
    "        print(e)\n",
    "        logging.info(f'Error Occured: {e}')\n",
    "        "
   ]
  },
  {
   "cell_type": "code",
   "execution_count": 46,
   "id": "2497ce6d",
   "metadata": {},
   "outputs": [
    {
     "data": {
      "text/plain": [
       "2"
      ]
     },
     "execution_count": 46,
     "metadata": {},
     "output_type": "execute_result"
    }
   ],
   "source": [
    "equal(3, 4, 3)"
   ]
  },
  {
   "cell_type": "code",
   "execution_count": 11,
   "id": "153def16",
   "metadata": {},
   "outputs": [],
   "source": [
    "#2 Write a function that converts a dictionary into a list of keys-values tuples\n",
    "def dict_to_list(d):\n",
    "    '''converts a dictionary into a list of keys-values tuples'''\n",
    "    try:\n",
    "        l = [(i, d[i]) for i in d]\n",
    "        return sorted(l)\n",
    "    except Exception as e:\n",
    "        print(e)\n",
    "        logging.info(f'Error Occured: {e}')"
   ]
  },
  {
   "cell_type": "code",
   "execution_count": 12,
   "id": "c97a0d04",
   "metadata": {},
   "outputs": [
    {
     "data": {
      "text/plain": [
       "[('B', 2), ('C', 3), ('D', 1)]"
      ]
     },
     "execution_count": 12,
     "metadata": {},
     "output_type": "execute_result"
    }
   ],
   "source": [
    "dict_to_list({\n",
    "'D': 1,\n",
    "'B': 2,\n",
    "'C': 3\n",
    "})"
   ]
  },
  {
   "cell_type": "code",
   "execution_count": 47,
   "id": "a9599013",
   "metadata": {},
   "outputs": [],
   "source": [
    "#3 Write a function that creates a dictionary with each (key, value) pair being the (lower case,upper case) versions of a letter, respectively.\n",
    "\n",
    "def mapping(l):\n",
    "    '''creates a dictionary with each (key, value) pair being the (lower case, upper case) versions of a letter, respectively.'''\n",
    "    try:\n",
    "        return {i:i.upper() for i in l}\n",
    "    except Exception as e:\n",
    "        print(e)\n",
    "        logging.info(f'Error Occured: {e}')"
   ]
  },
  {
   "cell_type": "code",
   "execution_count": 14,
   "id": "a314680a",
   "metadata": {},
   "outputs": [
    {
     "data": {
      "text/plain": [
       "{'a': 'A', 'v': 'V', 'y': 'Y', 'z': 'Z'}"
      ]
     },
     "execution_count": 14,
     "metadata": {},
     "output_type": "execute_result"
    }
   ],
   "source": [
    "mapping(['a', 'v', 'y', 'z'])"
   ]
  },
  {
   "cell_type": "code",
   "execution_count": 15,
   "id": "87076a1a",
   "metadata": {},
   "outputs": [],
   "source": [
    "# 4 Write a function, that replaces all vowels in a string with a specified vowel.\n",
    "\n",
    "def vow_replace(st,re):\n",
    "    '''replaces all vowels in a string with a specified vowel.'''\n",
    "    try:\n",
    "        vo = ['a','e','i','o','u']\n",
    "        return ''.join([re if i in vo else i for i in st])\n",
    "    except Exception as e:\n",
    "        print(e)\n",
    "        logging.info(f'Error Occured: {e}')"
   ]
  },
  {
   "cell_type": "code",
   "execution_count": 16,
   "id": "36f91ed0",
   "metadata": {},
   "outputs": [
    {
     "data": {
      "text/plain": [
       "'upplus und bununus'"
      ]
     },
     "execution_count": 16,
     "metadata": {},
     "output_type": "execute_result"
    }
   ],
   "source": [
    "vow_replace('apples and bananas', 'u')"
   ]
  },
  {
   "cell_type": "code",
   "execution_count": 17,
   "id": "01ebc70c",
   "metadata": {},
   "outputs": [],
   "source": [
    "# Create a function that takes a string as input and capitalizes a letter if its ASCII code is evenand returns its lower case version if its ASCII code is odd.\n",
    "\n",
    "def ascii_capitalize(st):\n",
    "    '''capitalizes a letter if its ASCII code is even and returns its lower case version if its ASCII code is odd'''\n",
    "    try:\n",
    "        return ''.join([i.upper() if ord(i)%2==0 else i.lower() for i in st])\n",
    "    except Exception as e:\n",
    "        print(e)\n",
    "        logging.info(f'Error Occured: {e}')"
   ]
  },
  {
   "cell_type": "code",
   "execution_count": 18,
   "id": "80a35919",
   "metadata": {},
   "outputs": [
    {
     "data": {
      "text/plain": [
       "'To Be oR NoT To Be!'"
      ]
     },
     "execution_count": 18,
     "metadata": {},
     "output_type": "execute_result"
    }
   ],
   "source": [
    "ascii_capitalize('to be or not to be!')"
   ]
  },
  {
   "cell_type": "code",
   "execution_count": 19,
   "id": "0e96c57f",
   "metadata": {},
   "outputs": [],
   "source": [
    "# Create a function that takes an integer and returns a list from 1 to the given number, where:\n",
    "# 1. If the number can be divided evenly by 4, amplify it by 10 (i.e. return 10 times the\n",
    "# number).\n",
    "# 2. If the number cannot be divided evenly by 4, simply return the number.\n",
    "\n",
    "def amplify(num):\n",
    "    '''Returns Amplify'''\n",
    "    try:\n",
    "        a = [i*10 if i%4==0 else i for i in range(num+1)]\n",
    "        return a\n",
    "    except Exception as e:\n",
    "        print(e)\n",
    "        logging.info(f'Error Occured: {e}')"
   ]
  },
  {
   "cell_type": "code",
   "execution_count": 20,
   "id": "fca31b9a",
   "metadata": {},
   "outputs": [
    {
     "data": {
      "text/plain": [
       "[0,\n",
       " 1,\n",
       " 2,\n",
       " 3,\n",
       " 40,\n",
       " 5,\n",
       " 6,\n",
       " 7,\n",
       " 80,\n",
       " 9,\n",
       " 10,\n",
       " 11,\n",
       " 120,\n",
       " 13,\n",
       " 14,\n",
       " 15,\n",
       " 160,\n",
       " 17,\n",
       " 18,\n",
       " 19,\n",
       " 200,\n",
       " 21,\n",
       " 22,\n",
       " 23,\n",
       " 240,\n",
       " 25]"
      ]
     },
     "execution_count": 20,
     "metadata": {},
     "output_type": "execute_result"
    }
   ],
   "source": [
    "amplify(25)"
   ]
  },
  {
   "cell_type": "code",
   "execution_count": 21,
   "id": "d2dd3762",
   "metadata": {},
   "outputs": [],
   "source": [
    "# Create a function that takes a list of numbers and return the number that's unique.\n",
    "\n",
    "def unique(l):\n",
    "    '''Create a function that takes a list of numbers and return the number that's unique'''\n",
    "    try:\n",
    "        for i in range(len(l)):\n",
    "            if l[i] in l[i+1:]:\n",
    "                continue\n",
    "            else:\n",
    "                return l[i]\n",
    "    except Exception as e:\n",
    "        print(e)\n",
    "        logging.info(f'Error Occured: {e}')"
   ]
  },
  {
   "cell_type": "code",
   "execution_count": 22,
   "id": "6034b23d",
   "metadata": {},
   "outputs": [
    {
     "data": {
      "text/plain": [
       "0"
      ]
     },
     "execution_count": 22,
     "metadata": {},
     "output_type": "execute_result"
    }
   ],
   "source": [
    "unique([0, 1, 1, 1, 1, 1, 1, 1])"
   ]
  },
  {
   "cell_type": "code",
   "execution_count": 31,
   "id": "6301364a",
   "metadata": {},
   "outputs": [],
   "source": [
    "import math"
   ]
  },
  {
   "cell_type": "code",
   "execution_count": 32,
   "id": "d353370e",
   "metadata": {},
   "outputs": [],
   "source": [
    "# # # # # Your task is to create a Circle constructor that creates a circle with a radius provided by an\n",
    "# # # # argument. The circles constructed must have two getters getArea() (PIr^2) and getPerimeter()\n",
    "# # # (2PI*r) which give both respective areas and perimeter (circumference).\n",
    "# # For help with this class, I have provided you with a Rectangle constructor which you can use as\n",
    "# a base example.\n",
    "\n",
    "class Circul:\n",
    "    def __init__(self,rad):\n",
    "        self.rad = rad\n",
    "    \n",
    "    def getArea(self):\n",
    "        a = math.pi*(self.rad**2)\n",
    "        return round(a)\n",
    "    \n",
    "    def getPerimeter(self):\n",
    "        p = math.pi*2*self.rad\n",
    "        return round(p)"
   ]
  },
  {
   "cell_type": "code",
   "execution_count": 33,
   "id": "e0b94bf9",
   "metadata": {},
   "outputs": [
    {
     "data": {
      "text/plain": [
       "380"
      ]
     },
     "execution_count": 33,
     "metadata": {},
     "output_type": "execute_result"
    }
   ],
   "source": [
    "cir = Circul(11)\n",
    "cir.getArea()"
   ]
  },
  {
   "cell_type": "code",
   "execution_count": 34,
   "id": "25186dff",
   "metadata": {},
   "outputs": [
    {
     "data": {
      "text/plain": [
       "69"
      ]
     },
     "execution_count": 34,
     "metadata": {},
     "output_type": "execute_result"
    }
   ],
   "source": [
    "cir.getPerimeter()"
   ]
  },
  {
   "cell_type": "code",
   "execution_count": 35,
   "id": "057e2f6d",
   "metadata": {},
   "outputs": [],
   "source": [
    "# # Question4\n",
    "# Create a function that takes a list of strings and return a list, sorted from shortest to longest.\n",
    "def sort_by_length(l):\n",
    "    ''' takes a list of strings and return a list, sorted from shortest to longest.'''\n",
    "    try:\n",
    "        check = 0\n",
    "        while(check != len(l)-1):\n",
    "            check = 0\n",
    "            for i in range(len(l)-1):\n",
    "                if len(l[i])>len(l[i+1]):\n",
    "                    temp = l[i]\n",
    "                    l[i] = l[i+1]\n",
    "                    l[i+1] = temp\n",
    "                else:\n",
    "                    check += 1\n",
    "        return l\n",
    "    except Exception as e:\n",
    "        print(e)\n",
    "        logging.info(f'Error Occured: {e}')"
   ]
  },
  {
   "cell_type": "code",
   "execution_count": 36,
   "id": "0f051156",
   "metadata": {},
   "outputs": [
    {
     "data": {
      "text/plain": [
       "['Apple', 'Google', 'Microsoft']"
      ]
     },
     "execution_count": 36,
     "metadata": {},
     "output_type": "execute_result"
    }
   ],
   "source": [
    "sort_by_length(['Google', 'Apple', 'Microsoft'])"
   ]
  },
  {
   "cell_type": "code",
   "execution_count": 37,
   "id": "79fcadc9",
   "metadata": {},
   "outputs": [],
   "source": [
    "# # # # Question5\n",
    "# # # Create a function that validates whether three given integers form a Pythagorean triplet. The\n",
    "# # sum of the squares of the two smallest integers must equal the square of the largest number to\n",
    "# be validated.\n",
    "def is_triplet(a,b,c):\n",
    "    '''That validates whether three given integers form a Pythagorean triplet'''\n",
    "    try:\n",
    "        tri = sorted([a,b,c])\n",
    "        cs = (tri[0]**2)+(tri[1]**2)\n",
    "        if tri[2]**2==cs:\n",
    "            return True \n",
    "        else:\n",
    "            return False\n",
    "    except Exception as e:\n",
    "        print(e)\n",
    "        logging.info(f'Error Occured: {e}')"
   ]
  },
  {
   "cell_type": "code",
   "execution_count": 38,
   "id": "492322f6",
   "metadata": {},
   "outputs": [
    {
     "data": {
      "text/plain": [
       "True"
      ]
     },
     "execution_count": 38,
     "metadata": {},
     "output_type": "execute_result"
    }
   ],
   "source": [
    "is_triplet(3, 4, 5)"
   ]
  },
  {
   "cell_type": "code",
   "execution_count": null,
   "id": "e81e9225",
   "metadata": {},
   "outputs": [],
   "source": []
  },
  {
   "cell_type": "code",
   "execution_count": null,
   "id": "f06c9d26",
   "metadata": {},
   "outputs": [],
   "source": []
  },
  {
   "cell_type": "code",
   "execution_count": null,
   "id": "7cf59f21",
   "metadata": {},
   "outputs": [],
   "source": []
  },
  {
   "cell_type": "code",
   "execution_count": null,
   "id": "0cc83215",
   "metadata": {},
   "outputs": [],
   "source": []
  },
  {
   "cell_type": "code",
   "execution_count": null,
   "id": "7edec926",
   "metadata": {},
   "outputs": [],
   "source": []
  },
  {
   "cell_type": "code",
   "execution_count": null,
   "id": "210a38b7",
   "metadata": {},
   "outputs": [],
   "source": []
  },
  {
   "cell_type": "code",
   "execution_count": null,
   "id": "dc6c2d2b",
   "metadata": {},
   "outputs": [],
   "source": []
  },
  {
   "cell_type": "code",
   "execution_count": null,
   "id": "32268255",
   "metadata": {},
   "outputs": [],
   "source": []
  },
  {
   "cell_type": "code",
   "execution_count": null,
   "id": "f30adc3d",
   "metadata": {},
   "outputs": [],
   "source": []
  },
  {
   "cell_type": "code",
   "execution_count": null,
   "id": "6b88725c",
   "metadata": {},
   "outputs": [],
   "source": []
  },
  {
   "cell_type": "code",
   "execution_count": null,
   "id": "c2dc5108",
   "metadata": {},
   "outputs": [],
   "source": []
  }
 ],
 "metadata": {
  "kernelspec": {
   "display_name": "Python 3 (ipykernel)",
   "language": "python",
   "name": "python3"
  },
  "language_info": {
   "codemirror_mode": {
    "name": "ipython",
    "version": 3
   },
   "file_extension": ".py",
   "mimetype": "text/x-python",
   "name": "python",
   "nbconvert_exporter": "python",
   "pygments_lexer": "ipython3",
   "version": "3.9.13"
  }
 },
 "nbformat": 4,
 "nbformat_minor": 5
}
